{
  "cells": [
    {
      "cell_type": "markdown",
      "source": [
        "# File used for day night conversion (using the downloaded pre-trained model) and processing of the results (i.e. compile the dataset for further steps of training a panoptic segmentation model).\n",
        "# Approach-1\n",
        "## Author: Ankur Chrungoo"
      ],
      "metadata": {
        "id": "yuu_QJXnb0et"
      }
    },
    {
      "cell_type": "code",
      "source": [
        "from google.colab import drive\n",
        "drive.mount('/content/drive/', force_remount=True)\n",
        "import os"
      ],
      "metadata": {
        "id": "emkQaOwmaqq_",
        "colab": {
          "base_uri": "https://localhost:8080/"
        },
        "outputId": "c2124bf0-7389-4c54-8bff-c9cfbb3c92a7"
      },
      "execution_count": null,
      "outputs": [
        {
          "output_type": "stream",
          "name": "stdout",
          "text": [
            "Mounted at /content/drive/\n"
          ]
        }
      ]
    },
    {
      "cell_type": "code",
      "source": [
        "os.chdir('/content/drive/MyDrive/day_night_conversion')"
      ],
      "metadata": {
        "id": "sd8h3Cooa_oF"
      },
      "execution_count": null,
      "outputs": []
    },
    {
      "cell_type": "markdown",
      "metadata": {
        "id": "7wNjDKdQy35h"
      },
      "source": [
        "# Install"
      ]
    },
    {
      "cell_type": "code",
      "execution_count": null,
      "metadata": {
        "id": "TRm-USlsHgEV",
        "colab": {
          "base_uri": "https://localhost:8080/"
        },
        "outputId": "39c6f026-8c70-4d43-c877-1fe7c778d2a9"
      },
      "outputs": [
        {
          "output_type": "stream",
          "name": "stdout",
          "text": [
            "Cloning into 'pytorch-CycleGAN-and-pix2pix'...\n",
            "remote: Enumerating objects: 2452, done.\u001b[K\n",
            "remote: Counting objects: 100% (1/1), done.\u001b[K\n",
            "remote: Total 2452 (delta 0), reused 1 (delta 0), pack-reused 2451\u001b[K\n",
            "Receiving objects: 100% (2452/2452), 8.18 MiB | 11.50 MiB/s, done.\n",
            "Resolving deltas: 100% (1538/1538), done.\n"
          ]
        }
      ],
      "source": [
        "!git clone https://github.com/junyanz/pytorch-CycleGAN-and-pix2pix"
      ]
    },
    {
      "cell_type": "code",
      "execution_count": null,
      "metadata": {
        "id": "Pt3igws3eiVp"
      },
      "outputs": [],
      "source": [
        "os.chdir('pytorch-CycleGAN-and-pix2pix/')"
      ]
    },
    {
      "cell_type": "code",
      "source": [
        "#os.chdir('datasets')"
      ],
      "metadata": {
        "id": "BkwpFNKZ2zFa"
      },
      "execution_count": null,
      "outputs": []
    },
    {
      "cell_type": "code",
      "source": [
        "#!unzip datasets.zip"
      ],
      "metadata": {
        "id": "izL3zl-Z2mlO"
      },
      "execution_count": null,
      "outputs": []
    },
    {
      "cell_type": "code",
      "source": [
        "# Use only when extracting the checkpoints content for the pre-trained cyclegan model.\n",
        "#!unzip checkpoints.zip"
      ],
      "metadata": {
        "id": "xGeW9aOz9SMl"
      },
      "execution_count": null,
      "outputs": []
    },
    {
      "cell_type": "code",
      "execution_count": null,
      "metadata": {
        "id": "z1EySlOXwwoa",
        "colab": {
          "base_uri": "https://localhost:8080/"
        },
        "outputId": "f99e16fc-7218-4958-95ee-a59c99c1999c"
      },
      "outputs": [
        {
          "output_type": "stream",
          "name": "stdout",
          "text": [
            "Looking in indexes: https://pypi.org/simple, https://us-python.pkg.dev/colab-wheels/public/simple/\n",
            "Requirement already satisfied: torch>=1.4.0 in /usr/local/lib/python3.7/dist-packages (from -r requirements.txt (line 1)) (1.12.0+cu113)\n",
            "Requirement already satisfied: torchvision>=0.5.0 in /usr/local/lib/python3.7/dist-packages (from -r requirements.txt (line 2)) (0.13.0+cu113)\n",
            "Collecting dominate>=2.4.0\n",
            "  Downloading dominate-2.6.0-py2.py3-none-any.whl (29 kB)\n",
            "Collecting visdom>=0.1.8.8\n",
            "  Downloading visdom-0.1.8.9.tar.gz (676 kB)\n",
            "\u001b[K     |████████████████████████████████| 676 kB 6.7 MB/s \n",
            "\u001b[?25hCollecting wandb\n",
            "  Downloading wandb-0.12.21-py2.py3-none-any.whl (1.8 MB)\n",
            "\u001b[K     |████████████████████████████████| 1.8 MB 50.3 MB/s \n",
            "\u001b[?25hRequirement already satisfied: typing-extensions in /usr/local/lib/python3.7/dist-packages (from torch>=1.4.0->-r requirements.txt (line 1)) (4.1.1)\n",
            "Requirement already satisfied: pillow!=8.3.*,>=5.3.0 in /usr/local/lib/python3.7/dist-packages (from torchvision>=0.5.0->-r requirements.txt (line 2)) (7.1.2)\n",
            "Requirement already satisfied: requests in /usr/local/lib/python3.7/dist-packages (from torchvision>=0.5.0->-r requirements.txt (line 2)) (2.23.0)\n",
            "Requirement already satisfied: numpy in /usr/local/lib/python3.7/dist-packages (from torchvision>=0.5.0->-r requirements.txt (line 2)) (1.21.6)\n",
            "Requirement already satisfied: scipy in /usr/local/lib/python3.7/dist-packages (from visdom>=0.1.8.8->-r requirements.txt (line 4)) (1.7.3)\n",
            "Requirement already satisfied: tornado in /usr/local/lib/python3.7/dist-packages (from visdom>=0.1.8.8->-r requirements.txt (line 4)) (5.1.1)\n",
            "Requirement already satisfied: pyzmq in /usr/local/lib/python3.7/dist-packages (from visdom>=0.1.8.8->-r requirements.txt (line 4)) (23.2.0)\n",
            "Requirement already satisfied: six in /usr/local/lib/python3.7/dist-packages (from visdom>=0.1.8.8->-r requirements.txt (line 4)) (1.15.0)\n",
            "Collecting jsonpatch\n",
            "  Downloading jsonpatch-1.32-py2.py3-none-any.whl (12 kB)\n",
            "Collecting torchfile\n",
            "  Downloading torchfile-0.1.0.tar.gz (5.2 kB)\n",
            "Collecting websocket-client\n",
            "  Downloading websocket_client-1.3.3-py3-none-any.whl (54 kB)\n",
            "\u001b[K     |████████████████████████████████| 54 kB 3.0 MB/s \n",
            "\u001b[?25hCollecting setproctitle\n",
            "  Downloading setproctitle-1.2.3-cp37-cp37m-manylinux_2_5_x86_64.manylinux1_x86_64.manylinux_2_17_x86_64.manylinux2014_x86_64.whl (29 kB)\n",
            "Requirement already satisfied: PyYAML in /usr/local/lib/python3.7/dist-packages (from wandb->-r requirements.txt (line 5)) (3.13)\n",
            "Requirement already satisfied: setuptools in /usr/local/lib/python3.7/dist-packages (from wandb->-r requirements.txt (line 5)) (57.4.0)\n",
            "Requirement already satisfied: protobuf<4.0dev,>=3.12.0 in /usr/local/lib/python3.7/dist-packages (from wandb->-r requirements.txt (line 5)) (3.17.3)\n",
            "Collecting shortuuid>=0.5.0\n",
            "  Downloading shortuuid-1.0.9-py3-none-any.whl (9.4 kB)\n",
            "Requirement already satisfied: promise<3,>=2.0 in /usr/local/lib/python3.7/dist-packages (from wandb->-r requirements.txt (line 5)) (2.3)\n",
            "Requirement already satisfied: Click!=8.0.0,>=7.0 in /usr/local/lib/python3.7/dist-packages (from wandb->-r requirements.txt (line 5)) (7.1.2)\n",
            "Collecting sentry-sdk>=1.0.0\n",
            "  Downloading sentry_sdk-1.8.0-py2.py3-none-any.whl (153 kB)\n",
            "\u001b[K     |████████████████████████████████| 153 kB 66.3 MB/s \n",
            "\u001b[?25hRequirement already satisfied: psutil>=5.0.0 in /usr/local/lib/python3.7/dist-packages (from wandb->-r requirements.txt (line 5)) (5.4.8)\n",
            "Collecting GitPython>=1.0.0\n",
            "  Downloading GitPython-3.1.27-py3-none-any.whl (181 kB)\n",
            "\u001b[K     |████████████████████████████████| 181 kB 61.7 MB/s \n",
            "\u001b[?25hCollecting pathtools\n",
            "  Downloading pathtools-0.1.2.tar.gz (11 kB)\n",
            "Collecting docker-pycreds>=0.4.0\n",
            "  Downloading docker_pycreds-0.4.0-py2.py3-none-any.whl (9.0 kB)\n",
            "Collecting gitdb<5,>=4.0.1\n",
            "  Downloading gitdb-4.0.9-py3-none-any.whl (63 kB)\n",
            "\u001b[K     |████████████████████████████████| 63 kB 2.0 MB/s \n",
            "\u001b[?25hCollecting smmap<6,>=3.0.1\n",
            "  Downloading smmap-5.0.0-py3-none-any.whl (24 kB)\n",
            "Requirement already satisfied: urllib3!=1.25.0,!=1.25.1,<1.26,>=1.21.1 in /usr/local/lib/python3.7/dist-packages (from requests->torchvision>=0.5.0->-r requirements.txt (line 2)) (1.24.3)\n",
            "Requirement already satisfied: idna<3,>=2.5 in /usr/local/lib/python3.7/dist-packages (from requests->torchvision>=0.5.0->-r requirements.txt (line 2)) (2.10)\n",
            "Requirement already satisfied: chardet<4,>=3.0.2 in /usr/local/lib/python3.7/dist-packages (from requests->torchvision>=0.5.0->-r requirements.txt (line 2)) (3.0.4)\n",
            "Requirement already satisfied: certifi>=2017.4.17 in /usr/local/lib/python3.7/dist-packages (from requests->torchvision>=0.5.0->-r requirements.txt (line 2)) (2022.6.15)\n",
            "Collecting jsonpointer>=1.9\n",
            "  Downloading jsonpointer-2.3-py2.py3-none-any.whl (7.8 kB)\n",
            "Building wheels for collected packages: visdom, pathtools, torchfile\n",
            "  Building wheel for visdom (setup.py) ... \u001b[?25l\u001b[?25hdone\n",
            "  Created wheel for visdom: filename=visdom-0.1.8.9-py3-none-any.whl size=655250 sha256=d0367a3f59dfb5d02be6ca55a382beb96eadba8d3de5071bd99df5d0fe87f0d9\n",
            "  Stored in directory: /root/.cache/pip/wheels/2d/d1/9b/cde923274eac9cbb6ff0d8c7c72fe30a3da9095a38fd50bbf1\n",
            "  Building wheel for pathtools (setup.py) ... \u001b[?25l\u001b[?25hdone\n",
            "  Created wheel for pathtools: filename=pathtools-0.1.2-py3-none-any.whl size=8806 sha256=32f74cb97fe8933a7e6edc7043396e051951b2698ce7e2711d8ef3974067752a\n",
            "  Stored in directory: /root/.cache/pip/wheels/3e/31/09/fa59cef12cdcfecc627b3d24273699f390e71828921b2cbba2\n",
            "  Building wheel for torchfile (setup.py) ... \u001b[?25l\u001b[?25hdone\n",
            "  Created wheel for torchfile: filename=torchfile-0.1.0-py3-none-any.whl size=5709 sha256=93a033656336942dd9c1e4eb2afba8a0201e9c3122b7fba175fbcf55f1e2d8cb\n",
            "  Stored in directory: /root/.cache/pip/wheels/ac/5c/3a/a80e1c65880945c71fd833408cd1e9a8cb7e2f8f37620bb75b\n",
            "Successfully built visdom pathtools torchfile\n",
            "Installing collected packages: smmap, jsonpointer, gitdb, websocket-client, torchfile, shortuuid, setproctitle, sentry-sdk, pathtools, jsonpatch, GitPython, docker-pycreds, wandb, visdom, dominate\n",
            "Successfully installed GitPython-3.1.27 docker-pycreds-0.4.0 dominate-2.6.0 gitdb-4.0.9 jsonpatch-1.32 jsonpointer-2.3 pathtools-0.1.2 sentry-sdk-1.8.0 setproctitle-1.2.3 shortuuid-1.0.9 smmap-5.0.0 torchfile-0.1.0 visdom-0.1.8.9 wandb-0.12.21 websocket-client-1.3.3\n"
          ]
        }
      ],
      "source": [
        "!pip install -r requirements.txt"
      ]
    },
    {
      "cell_type": "code",
      "source": [
        "# Only used to check directory content\n",
        "#!ls -lrt datasets/cityscapes/testA/"
      ],
      "metadata": {
        "id": "2bY1dPXT7rYj"
      },
      "execution_count": null,
      "outputs": []
    },
    {
      "cell_type": "code",
      "execution_count": null,
      "metadata": {
        "id": "uCsKkEq0yGh0",
        "colab": {
          "base_uri": "https://localhost:8080/"
        },
        "outputId": "48bf4fcc-45dd-483f-95a6-5ec2deeff9a0"
      },
      "outputs": [
        {
          "output_type": "stream",
          "name": "stdout",
          "text": [
            "----------------- Options ---------------\n",
            "             aspect_ratio: 1.0                           \n",
            "               batch_size: 1                             \n",
            "          checkpoints_dir: ./checkpoints                 \n",
            "                crop_size: 256                           \n",
            "                 dataroot: datasets/cityscapes/testA     \t[default: None]\n",
            "             dataset_mode: single                        \n",
            "                direction: AtoB                          \n",
            "          display_winsize: 256                           \n",
            "                    epoch: latest                        \n",
            "                     eval: False                         \n",
            "                  gpu_ids: 0                             \n",
            "                init_gain: 0.02                          \n",
            "                init_type: normal                        \n",
            "                 input_nc: 3                             \n",
            "                  isTrain: False                         \t[default: None]\n",
            "                load_iter: 0                             \t[default: 0]\n",
            "                load_size: 256                           \n",
            "         max_dataset_size: inf                           \n",
            "                    model: test                          \n",
            "             model_suffix:                               \n",
            "               n_layers_D: 3                             \n",
            "                     name: daynight_cyclegan_pretrained  \t[default: experiment_name]\n",
            "                      ndf: 64                            \n",
            "                     netD: basic                         \n",
            "                     netG: resnet_9blocks                \n",
            "                      ngf: 64                            \n",
            "               no_dropout: True                          \t[default: False]\n",
            "                  no_flip: False                         \n",
            "                     norm: instance                      \n",
            "                 num_test: 900                           \t[default: 50]\n",
            "              num_threads: 4                             \n",
            "                output_nc: 3                             \n",
            "                    phase: test                          \n",
            "               preprocess: none                          \t[default: resize_and_crop]\n",
            "              results_dir: ./results/                    \n",
            "           serial_batches: False                         \n",
            "                   suffix:                               \n",
            "                use_wandb: False                         \n",
            "                  verbose: False                         \n",
            "----------------- End -------------------\n",
            "dataset [SingleDataset] was created\n",
            "initialize network with normal\n",
            "model [TestModel] was created\n",
            "loading the model from ./checkpoints/daynight_cyclegan_pretrained/latest_net_G.pth\n",
            "---------- Networks initialized -------------\n",
            "[Network G] Total number of parameters : 11.378 M\n",
            "-----------------------------------------------\n",
            "creating web directory ./results/daynight_cyclegan_pretrained/test_latest\n",
            "processing (0000)-th image... ['datasets/cityscapes/testA/val/frankfurt/frankfurt_000000_000294_leftImg8bit.png']\n",
            "processing (0005)-th image... ['datasets/cityscapes/testA/val/frankfurt/frankfurt_000000_002196_leftImg8bit.png']\n",
            "processing (0010)-th image... ['datasets/cityscapes/testA/val/frankfurt/frankfurt_000000_004617_leftImg8bit.png']\n",
            "processing (0015)-th image... ['datasets/cityscapes/testA/val/frankfurt/frankfurt_000000_008206_leftImg8bit.png']\n",
            "processing (0020)-th image... ['datasets/cityscapes/testA/val/frankfurt/frankfurt_000000_009969_leftImg8bit.png']\n",
            "processing (0025)-th image... ['datasets/cityscapes/testA/val/frankfurt/frankfurt_000000_011461_leftImg8bit.png']\n",
            "processing (0030)-th image... ['datasets/cityscapes/testA/val/frankfurt/frankfurt_000000_013067_leftImg8bit.png']\n",
            "processing (0035)-th image... ['datasets/cityscapes/testA/val/frankfurt/frankfurt_000000_015389_leftImg8bit.png']\n",
            "processing (0040)-th image... ['datasets/cityscapes/testA/val/frankfurt/frankfurt_000000_017476_leftImg8bit.png']\n",
            "processing (0045)-th image... ['datasets/cityscapes/testA/val/frankfurt/frankfurt_000000_020880_leftImg8bit.png']\n",
            "processing (0050)-th image... ['datasets/cityscapes/testA/val/frankfurt/frankfurt_000001_000538_leftImg8bit.png']\n",
            "processing (0055)-th image... ['datasets/cityscapes/testA/val/frankfurt/frankfurt_000001_003056_leftImg8bit.png']\n",
            "processing (0060)-th image... ['datasets/cityscapes/testA/val/frankfurt/frankfurt_000001_005184_leftImg8bit.png']\n",
            "processing (0065)-th image... ['datasets/cityscapes/testA/val/frankfurt/frankfurt_000001_007407_leftImg8bit.png']\n",
            "processing (0070)-th image... ['datasets/cityscapes/testA/val/frankfurt/frankfurt_000001_008688_leftImg8bit.png']\n",
            "processing (0075)-th image... ['datasets/cityscapes/testA/val/frankfurt/frankfurt_000001_010444_leftImg8bit.png']\n",
            "processing (0080)-th image... ['datasets/cityscapes/testA/val/frankfurt/frankfurt_000001_011835_leftImg8bit.png']\n",
            "processing (0085)-th image... ['datasets/cityscapes/testA/val/frankfurt/frankfurt_000001_012870_leftImg8bit.png']\n",
            "processing (0090)-th image... ['datasets/cityscapes/testA/val/frankfurt/frankfurt_000001_014406_leftImg8bit.png']\n",
            "processing (0095)-th image... ['datasets/cityscapes/testA/val/frankfurt/frankfurt_000001_015768_leftImg8bit.png']\n",
            "processing (0100)-th image... ['datasets/cityscapes/testA/val/frankfurt/frankfurt_000001_017459_leftImg8bit.png']\n",
            "processing (0105)-th image... ['datasets/cityscapes/testA/val/frankfurt/frankfurt_000001_019969_leftImg8bit.png']\n",
            "processing (0110)-th image... ['datasets/cityscapes/testA/val/frankfurt/frankfurt_000001_021825_leftImg8bit.png']\n",
            "processing (0115)-th image... ['datasets/cityscapes/testA/val/frankfurt/frankfurt_000001_025512_leftImg8bit.png']\n",
            "processing (0120)-th image... ['datasets/cityscapes/testA/val/frankfurt/frankfurt_000001_028335_leftImg8bit.png']\n",
            "processing (0125)-th image... ['datasets/cityscapes/testA/val/frankfurt/frankfurt_000001_029600_leftImg8bit.png']\n",
            "processing (0130)-th image... ['datasets/cityscapes/testA/val/frankfurt/frankfurt_000001_031416_leftImg8bit.png']\n",
            "processing (0135)-th image... ['datasets/cityscapes/testA/val/frankfurt/frankfurt_000001_033655_leftImg8bit.png']\n",
            "processing (0140)-th image... ['datasets/cityscapes/testA/val/frankfurt/frankfurt_000001_037705_leftImg8bit.png']\n",
            "processing (0145)-th image... ['datasets/cityscapes/testA/val/frankfurt/frankfurt_000001_039895_leftImg8bit.png']\n",
            "processing (0150)-th image... ['datasets/cityscapes/testA/val/frankfurt/frankfurt_000001_041517_leftImg8bit.png']\n",
            "processing (0155)-th image... ['datasets/cityscapes/testA/val/frankfurt/frankfurt_000001_043395_leftImg8bit.png']\n",
            "processing (0160)-th image... ['datasets/cityscapes/testA/val/frankfurt/frankfurt_000001_044658_leftImg8bit.png']\n",
            "processing (0165)-th image... ['datasets/cityscapes/testA/val/frankfurt/frankfurt_000001_046779_leftImg8bit.png']\n",
            "processing (0170)-th image... ['datasets/cityscapes/testA/val/frankfurt/frankfurt_000001_048654_leftImg8bit.png']\n",
            "processing (0175)-th image... ['datasets/cityscapes/testA/val/frankfurt/frankfurt_000001_049770_leftImg8bit.png']\n",
            "processing (0180)-th image... ['datasets/cityscapes/testA/val/frankfurt/frankfurt_000001_051807_leftImg8bit.png']\n",
            "processing (0185)-th image... ['datasets/cityscapes/testA/val/frankfurt/frankfurt_000001_054219_leftImg8bit.png']\n",
            "processing (0190)-th image... ['datasets/cityscapes/testA/val/frankfurt/frankfurt_000001_055172_leftImg8bit.png']\n",
            "processing (0195)-th image... ['datasets/cityscapes/testA/val/frankfurt/frankfurt_000001_055709_leftImg8bit.png']\n",
            "processing (0200)-th image... ['datasets/cityscapes/testA/val/frankfurt/frankfurt_000001_058057_leftImg8bit.png']\n",
            "processing (0205)-th image... ['datasets/cityscapes/testA/val/frankfurt/frankfurt_000001_059642_leftImg8bit.png']\n",
            "processing (0210)-th image... ['datasets/cityscapes/testA/val/frankfurt/frankfurt_000001_060906_leftImg8bit.png']\n",
            "processing (0215)-th image... ['datasets/cityscapes/testA/val/frankfurt/frankfurt_000001_062396_leftImg8bit.png']\n",
            "processing (0220)-th image... ['datasets/cityscapes/testA/val/frankfurt/frankfurt_000001_064130_leftImg8bit.png']\n",
            "processing (0225)-th image... ['datasets/cityscapes/testA/val/frankfurt/frankfurt_000001_065160_leftImg8bit.png']\n",
            "processing (0230)-th image... ['datasets/cityscapes/testA/val/frankfurt/frankfurt_000001_066574_leftImg8bit.png']\n",
            "processing (0235)-th image... ['datasets/cityscapes/testA/val/frankfurt/frankfurt_000001_067474_leftImg8bit.png']\n",
            "processing (0240)-th image... ['datasets/cityscapes/testA/val/frankfurt/frankfurt_000001_068772_leftImg8bit.png']\n",
            "processing (0245)-th image... ['datasets/cityscapes/testA/val/frankfurt/frankfurt_000001_072155_leftImg8bit.png']\n",
            "processing (0250)-th image... ['datasets/cityscapes/testA/val/frankfurt/frankfurt_000001_073911_leftImg8bit.png']\n",
            "processing (0255)-th image... ['datasets/cityscapes/testA/val/frankfurt/frankfurt_000001_077233_leftImg8bit.png']\n",
            "processing (0260)-th image... ['datasets/cityscapes/testA/val/frankfurt/frankfurt_000001_080391_leftImg8bit.png']\n",
            "processing (0265)-th image... ['datasets/cityscapes/testA/val/frankfurt/frankfurt_000001_083199_leftImg8bit.png']\n",
            "processing (0270)-th image... ['datasets/cityscapes/testA/val/lindau/lindau_000003_000019_leftImg8bit.png']\n",
            "processing (0275)-th image... ['datasets/cityscapes/testA/val/lindau/lindau_000008_000019_leftImg8bit.png']\n",
            "processing (0280)-th image... ['datasets/cityscapes/testA/val/lindau/lindau_000013_000019_leftImg8bit.png']\n",
            "processing (0285)-th image... ['datasets/cityscapes/testA/val/lindau/lindau_000018_000019_leftImg8bit.png']\n",
            "processing (0290)-th image... ['datasets/cityscapes/testA/val/lindau/lindau_000023_000019_leftImg8bit.png']\n",
            "processing (0295)-th image... ['datasets/cityscapes/testA/val/lindau/lindau_000028_000019_leftImg8bit.png']\n",
            "processing (0300)-th image... ['datasets/cityscapes/testA/val/lindau/lindau_000033_000019_leftImg8bit.png']\n",
            "processing (0305)-th image... ['datasets/cityscapes/testA/val/lindau/lindau_000038_000019_leftImg8bit.png']\n",
            "processing (0310)-th image... ['datasets/cityscapes/testA/val/lindau/lindau_000043_000019_leftImg8bit.png']\n",
            "processing (0315)-th image... ['datasets/cityscapes/testA/val/lindau/lindau_000048_000019_leftImg8bit.png']\n",
            "processing (0320)-th image... ['datasets/cityscapes/testA/val/lindau/lindau_000053_000019_leftImg8bit.png']\n",
            "processing (0325)-th image... ['datasets/cityscapes/testA/val/lindau/lindau_000058_000019_leftImg8bit.png']\n",
            "processing (0330)-th image... ['datasets/cityscapes/testA/val/munster/munster_000004_000019_leftImg8bit.png']\n",
            "processing (0335)-th image... ['datasets/cityscapes/testA/val/munster/munster_000009_000019_leftImg8bit.png']\n",
            "processing (0340)-th image... ['datasets/cityscapes/testA/val/munster/munster_000014_000019_leftImg8bit.png']\n",
            "processing (0345)-th image... ['datasets/cityscapes/testA/val/munster/munster_000019_000019_leftImg8bit.png']\n",
            "processing (0350)-th image... ['datasets/cityscapes/testA/val/munster/munster_000024_000019_leftImg8bit.png']\n",
            "processing (0355)-th image... ['datasets/cityscapes/testA/val/munster/munster_000029_000019_leftImg8bit.png']\n",
            "processing (0360)-th image... ['datasets/cityscapes/testA/val/munster/munster_000034_000019_leftImg8bit.png']\n",
            "processing (0365)-th image... ['datasets/cityscapes/testA/val/munster/munster_000039_000019_leftImg8bit.png']\n",
            "processing (0370)-th image... ['datasets/cityscapes/testA/val/munster/munster_000044_000019_leftImg8bit.png']\n",
            "processing (0375)-th image... ['datasets/cityscapes/testA/val/munster/munster_000049_000019_leftImg8bit.png']\n",
            "processing (0380)-th image... ['datasets/cityscapes/testA/val/munster/munster_000054_000019_leftImg8bit.png']\n",
            "processing (0385)-th image... ['datasets/cityscapes/testA/val/munster/munster_000059_000019_leftImg8bit.png']\n",
            "processing (0390)-th image... ['datasets/cityscapes/testA/val/munster/munster_000064_000019_leftImg8bit.png']\n",
            "processing (0395)-th image... ['datasets/cityscapes/testA/val/munster/munster_000069_000019_leftImg8bit.png']\n",
            "processing (0400)-th image... ['datasets/cityscapes/testA/val/munster/munster_000074_000019_leftImg8bit.png']\n",
            "processing (0405)-th image... ['datasets/cityscapes/testA/val/munster/munster_000079_000019_leftImg8bit.png']\n",
            "processing (0410)-th image... ['datasets/cityscapes/testA/val/munster/munster_000084_000019_leftImg8bit.png']\n",
            "processing (0415)-th image... ['datasets/cityscapes/testA/val/munster/munster_000089_000019_leftImg8bit.png']\n",
            "processing (0420)-th image... ['datasets/cityscapes/testA/val/munster/munster_000094_000019_leftImg8bit.png']\n",
            "processing (0425)-th image... ['datasets/cityscapes/testA/val/munster/munster_000099_000019_leftImg8bit.png']\n",
            "processing (0430)-th image... ['datasets/cityscapes/testA/val/munster/munster_000104_000019_leftImg8bit.png']\n",
            "processing (0435)-th image... ['datasets/cityscapes/testA/val/munster/munster_000109_000019_leftImg8bit.png']\n",
            "processing (0440)-th image... ['datasets/cityscapes/testA/val/munster/munster_000114_000019_leftImg8bit.png']\n",
            "processing (0445)-th image... ['datasets/cityscapes/testA/val/munster/munster_000119_000019_leftImg8bit.png']\n",
            "processing (0450)-th image... ['datasets/cityscapes/testA/val/munster/munster_000124_000019_leftImg8bit.png']\n",
            "processing (0455)-th image... ['datasets/cityscapes/testA/val/munster/munster_000129_000019_leftImg8bit.png']\n",
            "processing (0460)-th image... ['datasets/cityscapes/testA/val/munster/munster_000134_000019_leftImg8bit.png']\n",
            "processing (0465)-th image... ['datasets/cityscapes/testA/val/munster/munster_000139_000019_leftImg8bit.png']\n",
            "processing (0470)-th image... ['datasets/cityscapes/testA/val/munster/munster_000144_000019_leftImg8bit.png']\n",
            "processing (0475)-th image... ['datasets/cityscapes/testA/val/munster/munster_000149_000019_leftImg8bit.png']\n",
            "processing (0480)-th image... ['datasets/cityscapes/testA/val/munster/munster_000154_000019_leftImg8bit.png']\n",
            "processing (0485)-th image... ['datasets/cityscapes/testA/val/munster/munster_000159_000019_leftImg8bit.png']\n",
            "processing (0490)-th image... ['datasets/cityscapes/testA/val/munster/munster_000164_000019_leftImg8bit.png']\n",
            "processing (0495)-th image... ['datasets/cityscapes/testA/val/munster/munster_000169_000019_leftImg8bit.png']\n"
          ]
        }
      ],
      "source": [
        "# Used to convert day images to poor light/ night images\n",
        "!python test.py --dataroot datasets/cityscapes/testA --name daynight_cyclegan_pretrained --model test --no_dropout --preprocess none --num_test=900 #--use_wandb "
      ]
    },
    {
      "cell_type": "code",
      "source": [
        "# For syncing to google drive\n",
        "# drive.flush_and_unmount()"
      ],
      "metadata": {
        "id": "U4BFJpJZ1_Im"
      },
      "execution_count": null,
      "outputs": []
    },
    {
      "cell_type": "markdown",
      "source": [
        "# Used for processing the generated images, and putting them into the correct folders for further steps. \n",
        "######(This code is modified as per latest processing steps executed, so it may not have the full list of steps or folders used for train, val sets' post conversion steps)"
      ],
      "metadata": {
        "id": "B30f6sCkRQpb"
      }
    },
    {
      "cell_type": "code",
      "source": [
        "os.chdir('/content/drive/MyDrive/day_night_conversion/pytorch-CycleGAN-and-pix2pix/results/daynight_cyclegan_pretrained/test_latest/images')\n",
        "\n",
        "# remove the real images (only keep the converted ones)\n",
        "!rm *_real.png\n",
        "\n",
        "# copy the fake (night/poor light) images to the 'val' folder\n",
        "!cp *_fake.png /content/drive/MyDrive/day_night_conversion/val\n"
      ],
      "metadata": {
        "id": "cEeCToZ9Ngmm"
      },
      "execution_count": null,
      "outputs": []
    },
    {
      "cell_type": "code",
      "source": [
        "# copying the results of the conversion to the images folder as a backup\n",
        "os.chdir('/content/drive/MyDrive/day_night_conversion/pytorch-CycleGAN-and-pix2pix/results/daynight_cyclegan_pretrained/test_latest/')\n",
        "!cp -r images/ /content/drive/MyDrive/day_night_conversion/images/val"
      ],
      "metadata": {
        "id": "mTJN19FcRN2D",
        "colab": {
          "base_uri": "https://localhost:8080/"
        },
        "outputId": "532dfd15-bbc8-4c68-edcc-aae47efd63ca"
      },
      "execution_count": null,
      "outputs": [
        {
          "output_type": "stream",
          "name": "stdout",
          "text": [
            "cp: cannot stat 'images/': No such file or directory\n"
          ]
        }
      ]
    },
    {
      "cell_type": "code",
      "source": [
        "#os.chdir('/content/drive/MyDrive/day_night_conversion/train')\n",
        "os.chdir('/content/drive/MyDrive/day_night_conversion/val')\n",
        "\n",
        "!sudo apt-get install mmv"
      ],
      "metadata": {
        "colab": {
          "base_uri": "https://localhost:8080/"
        },
        "id": "HDWkNSxVSCi6",
        "outputId": "67d4c446-5684-4158-dcfc-27081a337135"
      },
      "execution_count": null,
      "outputs": [
        {
          "output_type": "stream",
          "name": "stdout",
          "text": [
            "Reading package lists... Done\n",
            "Building dependency tree       \n",
            "Reading state information... Done\n",
            "The following package was automatically installed and is no longer required:\n",
            "  libnvidia-common-460\n",
            "Use 'sudo apt autoremove' to remove it.\n",
            "The following NEW packages will be installed:\n",
            "  mmv\n",
            "0 upgraded, 1 newly installed, 0 to remove and 62 not upgraded.\n",
            "Need to get 26.7 kB of archives.\n",
            "After this operation, 67.6 kB of additional disk space will be used.\n",
            "Get:1 http://archive.ubuntu.com/ubuntu bionic/universe amd64 mmv amd64 1.01b-19build1 [26.7 kB]\n",
            "Fetched 26.7 kB in 0s (90.7 kB/s)\n",
            "debconf: unable to initialize frontend: Dialog\n",
            "debconf: (No usable dialog-like program is installed, so the dialog based frontend cannot be used. at /usr/share/perl5/Debconf/FrontEnd/Dialog.pm line 76, <> line 1.)\n",
            "debconf: falling back to frontend: Readline\n",
            "debconf: unable to initialize frontend: Readline\n",
            "debconf: (This frontend requires a controlling tty.)\n",
            "debconf: falling back to frontend: Teletype\n",
            "dpkg-preconfigure: unable to re-open stdin: \n",
            "Selecting previously unselected package mmv.\n",
            "(Reading database ... 155639 files and directories currently installed.)\n",
            "Preparing to unpack .../mmv_1.01b-19build1_amd64.deb ...\n",
            "Unpacking mmv (1.01b-19build1) ...\n",
            "Setting up mmv (1.01b-19build1) ...\n",
            "Processing triggers for man-db (2.8.3-2ubuntu0.1) ...\n"
          ]
        }
      ]
    },
    {
      "cell_type": "code",
      "source": [
        "#Remove '_fake' from the file names.\n",
        "!mmv '*_fake*' '#1#2'"
      ],
      "metadata": {
        "id": "EI6lOzbHWyNr"
      },
      "execution_count": null,
      "outputs": []
    },
    {
      "cell_type": "code",
      "source": [
        "## Used for the 'training' images only\n",
        "\n",
        "# Move the images into corresponding city folder \n",
        "!mkdir aachen\n",
        "!mv aachen_* aachen/\n",
        "\n",
        "!mkdir bochum\n",
        "!mv bochum_* bochum/\n",
        "\n",
        "!mkdir bremen\n",
        "!mv bremen_* bremen/\n",
        "\n",
        "!mkdir cologne\n",
        "!mv cologne_* cologne/\n",
        "\n",
        "!mkdir darmstadt\n",
        "!mv darmstadt_* darmstadt/\n",
        "\n",
        "!mkdir dusseldorf\n",
        "!mv dusseldorf_* dusseldorf/\n",
        "\n",
        "!mkdir erfurt\n",
        "!mv erfurt_* erfurt/\n",
        "\n",
        "!mkdir hamburg\n",
        "!mv hamburg_* hamburg/\n",
        "\n",
        "!mkdir hanover\n",
        "!mv hanover_* hanover/\n",
        "\n",
        "!mkdir jena\n",
        "!mv jena_* jena/\n",
        "\n",
        "!mkdir krefeld\n",
        "!mv krefeld_* krefeld/\n",
        "\n",
        "!mkdir monchengladbach\n",
        "!mv monchengladbach_* monchengladbach/\n",
        "\n",
        "!mkdir strasbourg\n",
        "!mv strasbourg_* strasbourg/\n",
        "\n",
        "!mkdir stuttgart\n",
        "!mv stuttgart_* stuttgart/\n",
        "\n",
        "!mkdir tubingen\n",
        "!mv tubingen_* tubingen/\n",
        "\n",
        "!mkdir ulm\n",
        "!mv ulm_* ulm/\n",
        "\n",
        "!mkdir weimar\n",
        "!mv weimar_* weimar/\n",
        "\n",
        "!mkdir zurich\n",
        "!mv zurich_* zurich/"
      ],
      "metadata": {
        "id": "rQvcwt9sZoCD"
      },
      "execution_count": null,
      "outputs": []
    },
    {
      "cell_type": "code",
      "source": [
        "## Used for the 'training' images only\n",
        "\n",
        "#Copy files into the actual dataset\n",
        "os.chdir('/content/drive/MyDrive/day_night_conversion/train')\n",
        "\n",
        "!cp aachen/* /content/drive/MyDrive/dissertation/dissertation/src/pdl/panoptic-deeplab/datasets/cityscapes/leftImg8bit/train/aachen/\n",
        "!cp bochum/* /content/drive/MyDrive/dissertation/dissertation/src/pdl/panoptic-deeplab/datasets/cityscapes/leftImg8bit/train/bochum/\n",
        "!cp bremen/* /content/drive/MyDrive/dissertation/dissertation/src/pdl/panoptic-deeplab/datasets/cityscapes/leftImg8bit/train/bremen/\n",
        "!cp cologne/* /content/drive/MyDrive/dissertation/dissertation/src/pdl/panoptic-deeplab/datasets/cityscapes/leftImg8bit/train/cologne/\n",
        "!cp darmstadt/* /content/drive/MyDrive/dissertation/dissertation/src/pdl/panoptic-deeplab/datasets/cityscapes/leftImg8bit/train/darmstadt/\n",
        "!cp dusseldorf/* /content/drive/MyDrive/dissertation/dissertation/src/pdl/panoptic-deeplab/datasets/cityscapes/leftImg8bit/train/dusseldorf/\n",
        "!cp erfurt/* /content/drive/MyDrive/dissertation/dissertation/src/pdl/panoptic-deeplab/datasets/cityscapes/leftImg8bit/train/erfurt/\n",
        "!cp hamburg/* /content/drive/MyDrive/dissertation/dissertation/src/pdl/panoptic-deeplab/datasets/cityscapes/leftImg8bit/train/hamburg/\n",
        "!cp hanover/* /content/drive/MyDrive/dissertation/dissertation/src/pdl/panoptic-deeplab/datasets/cityscapes/leftImg8bit/train/hanover/\n",
        "!cp jena/* /content/drive/MyDrive/dissertation/dissertation/src/pdl/panoptic-deeplab/datasets/cityscapes/leftImg8bit/train/jena/\n",
        "!cp krefeld/* /content/drive/MyDrive/dissertation/dissertation/src/pdl/panoptic-deeplab/datasets/cityscapes/leftImg8bit/train/krefeld/\n",
        "!cp monchengladbach/* /content/drive/MyDrive/dissertation/dissertation/src/pdl/panoptic-deeplab/datasets/cityscapes/leftImg8bit/train/monchengladbach/\n",
        "!cp strasbourg/* /content/drive/MyDrive/dissertation/dissertation/src/pdl/panoptic-deeplab/datasets/cityscapes/leftImg8bit/train/strasbourg/\n",
        "!cp stuttgart/* /content/drive/MyDrive/dissertation/dissertation/src/pdl/panoptic-deeplab/datasets/cityscapes/leftImg8bit/train/stuttgart/\n",
        "!cp tubingen/* /content/drive/MyDrive/dissertation/dissertation/src/pdl/panoptic-deeplab/datasets/cityscapes/leftImg8bit/train/tubingen/\n",
        "!cp ulm/* /content/drive/MyDrive/dissertation/dissertation/src/pdl/panoptic-deeplab/datasets/cityscapes/leftImg8bit/train/ulm/\n",
        "!cp weimar/* /content/drive/MyDrive/dissertation/dissertation/src/pdl/panoptic-deeplab/datasets/cityscapes/leftImg8bit/train/weimar/\n",
        "!cp zurich/* /content/drive/MyDrive/dissertation/dissertation/src/pdl/panoptic-deeplab/datasets/cityscapes/leftImg8bit/train/zurich/"
      ],
      "metadata": {
        "id": "tQ87KsL2crzI"
      },
      "execution_count": null,
      "outputs": []
    },
    {
      "cell_type": "code",
      "source": [
        "## Used for the 'validation' images only\n",
        "\n",
        "# Move the images into corresponding city folder \n",
        "!mkdir frankfurt\n",
        "!mv frankfurt_* frankfurt/\n",
        "\n",
        "!mkdir lindau\n",
        "!mv lindau_* lindau/\n",
        "  \n",
        "!mkdir munster\n",
        "!mv munster_* munster/"
      ],
      "metadata": {
        "id": "561obPL6hU_C"
      },
      "execution_count": null,
      "outputs": []
    },
    {
      "cell_type": "code",
      "source": [
        "## Used for the 'validation' images only\n",
        "\n",
        "#Copy files into the actual dataset\n",
        "os.chdir('/content/drive/MyDrive/day_night_conversion/val')\n",
        "\n",
        "!cp frankfurt/* /content/drive/MyDrive/dissertation/dissertation/src/pdl/panoptic-deeplab/datasets/cityscapes/leftImg8bit/val/frankfurt/\n",
        "!cp lindau/* /content/drive/MyDrive/dissertation/dissertation/src/pdl/panoptic-deeplab/datasets/cityscapes/leftImg8bit/val/lindau/\n",
        "!cp munster/* /content/drive/MyDrive/dissertation/dissertation/src/pdl/panoptic-deeplab/datasets/cityscapes/leftImg8bit/val/munster/\n"
      ],
      "metadata": {
        "id": "xuYE9I5zhanQ"
      },
      "execution_count": null,
      "outputs": []
    },
    {
      "cell_type": "code",
      "source": [
        "# To convert a few cityscapes test images to nighttime domain (for further qualitative evaluation in Approach 1)\n",
        "!python test.py --dataroot datasets/cityscapes/testA --name pretrained_for_cs_test_set --model test --no_dropout --preprocess none --num_test=900 #--use_wandb "
      ],
      "metadata": {
        "colab": {
          "base_uri": "https://localhost:8080/"
        },
        "id": "hS_Llqoo4WlE",
        "outputId": "1927a246-b13c-4bd0-a464-e1d8fd40f5a4"
      },
      "execution_count": null,
      "outputs": [
        {
          "output_type": "stream",
          "name": "stdout",
          "text": [
            "----------------- Options ---------------\n",
            "             aspect_ratio: 1.0                           \n",
            "               batch_size: 1                             \n",
            "          checkpoints_dir: ./checkpoints                 \n",
            "                crop_size: 256                           \n",
            "                 dataroot: datasets/cityscapes/testA     \t[default: None]\n",
            "             dataset_mode: single                        \n",
            "                direction: AtoB                          \n",
            "          display_winsize: 256                           \n",
            "                    epoch: latest                        \n",
            "                     eval: False                         \n",
            "                  gpu_ids: 0                             \n",
            "                init_gain: 0.02                          \n",
            "                init_type: normal                        \n",
            "                 input_nc: 3                             \n",
            "                  isTrain: False                         \t[default: None]\n",
            "                load_iter: 0                             \t[default: 0]\n",
            "                load_size: 256                           \n",
            "         max_dataset_size: inf                           \n",
            "                    model: test                          \n",
            "             model_suffix:                               \n",
            "               n_layers_D: 3                             \n",
            "                     name: pretrained_for_cs_test_set    \t[default: experiment_name]\n",
            "                      ndf: 64                            \n",
            "                     netD: basic                         \n",
            "                     netG: resnet_9blocks                \n",
            "                      ngf: 64                            \n",
            "               no_dropout: True                          \t[default: False]\n",
            "                  no_flip: False                         \n",
            "                     norm: instance                      \n",
            "                 num_test: 900                           \t[default: 50]\n",
            "              num_threads: 4                             \n",
            "                output_nc: 3                             \n",
            "                    phase: test                          \n",
            "               preprocess: none                          \t[default: resize_and_crop]\n",
            "              results_dir: ./results/                    \n",
            "           serial_batches: False                         \n",
            "                   suffix:                               \n",
            "                use_wandb: False                         \n",
            "                  verbose: False                         \n",
            "----------------- End -------------------\n",
            "dataset [SingleDataset] was created\n",
            "initialize network with normal\n",
            "model [TestModel] was created\n",
            "loading the model from ./checkpoints/pretrained_for_cs_test_set/latest_net_G.pth\n",
            "---------- Networks initialized -------------\n",
            "[Network G] Total number of parameters : 11.378 M\n",
            "-----------------------------------------------\n",
            "creating web directory ./results/pretrained_for_cs_test_set/test_latest\n",
            "processing (0000)-th image... ['datasets/cityscapes/testA/bonn_000045_000019_leftImg8bit.png']\n",
            "processing (0005)-th image... ['datasets/cityscapes/testA/munich_000392_000019_leftImg8bit.png']\n"
          ]
        }
      ]
    }
  ],
  "metadata": {
    "colab": {
      "collapsed_sections": [],
      "name": "day_night_conversion_pretrained_model.ipynb",
      "provenance": []
    },
    "environment": {
      "name": "tf2-gpu.2-3.m74",
      "type": "gcloud",
      "uri": "gcr.io/deeplearning-platform-release/tf2-gpu.2-3:m74"
    },
    "kernelspec": {
      "display_name": "Python 3",
      "language": "python",
      "name": "python3"
    },
    "language_info": {
      "codemirror_mode": {
        "name": "ipython",
        "version": 3
      },
      "file_extension": ".py",
      "mimetype": "text/x-python",
      "name": "python",
      "nbconvert_exporter": "python",
      "pygments_lexer": "ipython3",
      "version": "3.7.10"
    },
    "gpuClass": "standard",
    "accelerator": "GPU"
  },
  "nbformat": 4,
  "nbformat_minor": 0
}